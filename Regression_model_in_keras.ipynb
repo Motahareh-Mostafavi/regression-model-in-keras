{
  "nbformat": 4,
  "nbformat_minor": 0,
  "metadata": {
    "colab": {
      "provenance": [],
      "authorship_tag": "ABX9TyNil13WTjzDOnkdP91uG55V",
      "include_colab_link": true
    },
    "kernelspec": {
      "name": "python3",
      "display_name": "Python 3"
    },
    "language_info": {
      "name": "python"
    }
  },
  "cells": [
    {
      "cell_type": "markdown",
      "metadata": {
        "id": "view-in-github",
        "colab_type": "text"
      },
      "source": [
        "<a href=\"https://colab.research.google.com/github/Motahareh-Mostafavi/Titanic-app/blob/main/Regression_model_in_keras.ipynb\" target=\"_parent\"><img src=\"https://colab.research.google.com/assets/colab-badge.svg\" alt=\"Open In Colab\"/></a>"
      ]
    },
    {
      "cell_type": "markdown",
      "source": [
        "# **Build a Regression Model in Keras**"
      ],
      "metadata": {
        "id": "E2lzbX5Ak6Vf"
      }
    },
    {
      "cell_type": "markdown",
      "source": [
        "Import the pandas, the numpy, the keras libraries and the packages from the keras library"
      ],
      "metadata": {
        "id": "TdfndJ4wlS7-"
      }
    },
    {
      "cell_type": "code",
      "execution_count": null,
      "metadata": {
        "id": "TnV-Hi2okOrW"
      },
      "outputs": [],
      "source": [
        "import pandas as pd\n",
        "import numpy as np\n",
        "import keras\n",
        "#import sklearn\n",
        "from keras.models import Sequential\n",
        "from keras.layers import Dense\n",
        "from sklearn.model_selection import train_test_split"
      ]
    },
    {
      "cell_type": "markdown",
      "source": [
        "Download the Concrete dataset"
      ],
      "metadata": {
        "id": "xgVykF0qlnnb"
      }
    },
    {
      "cell_type": "code",
      "source": [
        "concrete_data = pd.read_csv('https://s3-api.us-geo.objectstorage.softlayer.net/cf-courses-data/CognitiveClass/DL0101EN/labs/data/concrete_data.csv')\n"
      ],
      "metadata": {
        "id": "fwoe9J5IkecY"
      },
      "execution_count": null,
      "outputs": []
    },
    {
      "cell_type": "markdown",
      "source": [
        "Split the data into target and predictors"
      ],
      "metadata": {
        "id": "VH3ArsUCmcVO"
      }
    },
    {
      "cell_type": "code",
      "source": [
        "concrete_data_columns = concrete_data.columns"
      ],
      "metadata": {
        "id": "FmiZJCtAnDnK"
      },
      "execution_count": null,
      "outputs": []
    },
    {
      "cell_type": "code",
      "source": [
        "target = concrete_data['Strength']\n"
      ],
      "metadata": {
        "id": "g6k3PvvjnM-V"
      },
      "execution_count": null,
      "outputs": []
    },
    {
      "cell_type": "code",
      "source": [
        "predictors = concrete_data.iloc[:, :-1]\n"
      ],
      "metadata": {
        "id": "b-1Itjl0nTMh"
      },
      "execution_count": null,
      "outputs": []
    },
    {
      "cell_type": "markdown",
      "source": [
        "Normalize the data by substracting the mean and dividing by the standard deviation"
      ],
      "metadata": {
        "id": "C9KbfR9Nr1RD"
      }
    },
    {
      "cell_type": "code",
      "source": [
        "predictors_norm = (predictors - predictors.mean())/predictors.std()"
      ],
      "metadata": {
        "id": "mGnT_lOlrvQX"
      },
      "execution_count": null,
      "outputs": []
    },
    {
      "cell_type": "markdown",
      "source": [
        "Create a function that defines our regression model for us so that we can conveniently call it to create our model"
      ],
      "metadata": {
        "id": "2OAR1n4rnlLW"
      }
    },
    {
      "cell_type": "markdown",
      "source": [
        "Create a new model with three hidden layers, each of 10 nodes and ReLU activation function."
      ],
      "metadata": {
        "id": "YMrH-hu3nxM6"
      }
    },
    {
      "cell_type": "code",
      "source": [
        "n_cols = predictors_norm.shape[1]\n",
        "def regression_model4():\n",
        "    model4 = Sequential()\n",
        "    model4.add(Dense(10, activation='relu', input_shape=(n_cols,)))\n",
        "    model4.add(Dense(10, activation='relu'))\n",
        "    model4.add(Dense(10, activation='relu'))\n",
        "    model4.add(Dense(1))\n",
        "\n",
        "    model4.compile(optimizer='adam', loss='mean_squared_error')\n",
        "    return model4"
      ],
      "metadata": {
        "id": "CsWdy_3annl3"
      },
      "execution_count": null,
      "outputs": []
    },
    {
      "cell_type": "markdown",
      "source": [
        "Build the model"
      ],
      "metadata": {
        "id": "dAyZ9Bcan-m5"
      }
    },
    {
      "cell_type": "code",
      "source": [
        "model4 = regression_model4()"
      ],
      "metadata": {
        "id": "nxkHG2hAoBix"
      },
      "execution_count": null,
      "outputs": []
    },
    {
      "cell_type": "markdown",
      "source": [
        "Train and test the model at the same time using the fit-method. We will leave out 30% of the data (data after normalization) for validation and we will train the model for 50 epochs and use three hidden layers, each of 10 nodes and ReLU activation function."
      ],
      "metadata": {
        "id": "-S-O8wW_oN4V"
      }
    },
    {
      "cell_type": "code",
      "source": [
        "list_of_mean_squared_error = []\n",
        "for loop in range(50):\n",
        "    #Randomly split the data into a training set (70%) and a test set (30%):\n",
        "    X_train, X_test, y_train, y_test = train_test_split(predictors_norm, target, test_size=0.3)\n",
        "    #Train and test the model at the same time\n",
        "    res = model4.fit(X_train, y_train, epochs=50, verbose=0, validation_data=(X_test, y_test))\n",
        "    #Find mean_squared_error as last value in history.\n",
        "    mean_squared_error = res.history['val_loss'][-1]\n",
        "    #Add value of mean_squared_error for every cycle in list.\n",
        "    list_of_mean_squared_error.append(mean_squared_error)\n",
        "    print('loop #{}: mean_squared_error {}'.format(loop+1, mean_squared_error))"
      ],
      "metadata": {
        "colab": {
          "base_uri": "https://localhost:8080/"
        },
        "id": "7Hgg5EhZoQp1",
        "outputId": "2f934642-288c-43f9-a5bf-89392ad65544"
      },
      "execution_count": null,
      "outputs": [
        {
          "output_type": "stream",
          "name": "stdout",
          "text": [
            "loop #1: mean_squared_error 129.81947326660156\n",
            "loop #2: mean_squared_error 114.31336212158203\n",
            "loop #3: mean_squared_error 105.62858581542969\n",
            "loop #4: mean_squared_error 79.18669891357422\n",
            "loop #5: mean_squared_error 45.65388870239258\n",
            "loop #6: mean_squared_error 38.04157638549805\n",
            "loop #7: mean_squared_error 30.493432998657227\n",
            "loop #8: mean_squared_error 32.932350158691406\n",
            "loop #9: mean_squared_error 32.00146484375\n",
            "loop #10: mean_squared_error 31.710182189941406\n",
            "loop #11: mean_squared_error 27.298742294311523\n",
            "loop #12: mean_squared_error 33.00092697143555\n",
            "loop #13: mean_squared_error 32.83043670654297\n",
            "loop #14: mean_squared_error 27.592416763305664\n",
            "loop #15: mean_squared_error 28.779027938842773\n",
            "loop #16: mean_squared_error 27.913427352905273\n",
            "loop #17: mean_squared_error 23.28644561767578\n",
            "loop #18: mean_squared_error 27.225902557373047\n",
            "loop #19: mean_squared_error 27.316017150878906\n",
            "loop #20: mean_squared_error 24.306413650512695\n",
            "loop #21: mean_squared_error 23.1190185546875\n",
            "loop #22: mean_squared_error 25.940095901489258\n",
            "loop #23: mean_squared_error 24.106821060180664\n",
            "loop #24: mean_squared_error 20.597116470336914\n",
            "loop #25: mean_squared_error 28.350194931030273\n",
            "loop #26: mean_squared_error 22.99055290222168\n",
            "loop #27: mean_squared_error 22.956396102905273\n",
            "loop #28: mean_squared_error 25.16720962524414\n",
            "loop #29: mean_squared_error 20.591951370239258\n",
            "loop #30: mean_squared_error 22.74761962890625\n",
            "loop #31: mean_squared_error 19.216594696044922\n",
            "loop #32: mean_squared_error 27.878704071044922\n",
            "loop #33: mean_squared_error 23.162805557250977\n",
            "loop #34: mean_squared_error 20.63295555114746\n",
            "loop #35: mean_squared_error 25.90810775756836\n",
            "loop #36: mean_squared_error 25.309123992919922\n",
            "loop #37: mean_squared_error 24.079509735107422\n",
            "loop #38: mean_squared_error 19.360553741455078\n",
            "loop #39: mean_squared_error 23.301118850708008\n",
            "loop #40: mean_squared_error 20.44504165649414\n",
            "loop #41: mean_squared_error 20.925527572631836\n",
            "loop #42: mean_squared_error 20.82636260986328\n",
            "loop #43: mean_squared_error 19.519939422607422\n",
            "loop #44: mean_squared_error 20.6457576751709\n",
            "loop #45: mean_squared_error 21.172393798828125\n",
            "loop #46: mean_squared_error 18.851354598999023\n",
            "loop #47: mean_squared_error 22.044557571411133\n",
            "loop #48: mean_squared_error 22.066909790039062\n",
            "loop #49: mean_squared_error 20.441429138183594\n",
            "loop #50: mean_squared_error 22.052776336669922\n"
          ]
        }
      ]
    },
    {
      "cell_type": "markdown",
      "source": [
        "Find the mean and the standard deviation of the mean squared errors"
      ],
      "metadata": {
        "id": "ejfMRZNUqMZd"
      }
    },
    {
      "cell_type": "code",
      "source": [
        "print('The mean of the mean squared errors: {}'.format(np.mean(list_of_mean_squared_error)))\n",
        "print('The standard deviation of the mean squared errors: {}'.format(np.std(list_of_mean_squared_error)))"
      ],
      "metadata": {
        "colab": {
          "base_uri": "https://localhost:8080/"
        },
        "id": "9uiiizEbqPTp",
        "outputId": "2b1b50a5-991e-4e93-9599-b47e1d2b7793"
      },
      "execution_count": null,
      "outputs": [
        {
          "output_type": "stream",
          "name": "stdout",
          "text": [
            "The mean of the mean squared errors: 31.87478546142578\n",
            "The standard deviation of the mean squared errors: 23.395691090167652\n"
          ]
        }
      ]
    },
    {
      "cell_type": "markdown",
      "source": [
        "The mean and the standard deviation of the mean squared errors in case D is less than in case A, B and C."
      ],
      "metadata": {
        "id": "8171JjRyxuZg"
      }
    }
  ]
}